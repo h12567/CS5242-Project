{
 "cells": [
  {
   "cell_type": "code",
   "execution_count": 1,
   "metadata": {
    "collapsed": true
   },
   "outputs": [],
   "source": [
    "import pandas as pd \n",
    "from sklearn.preprocessing import StandardScaler\n",
    "import lightgbm as lgb\n",
    "import numpy as np\n",
    "from sklearn.metrics import confusion_matrix\n",
    "from sklearn.metrics import accuracy_score\n",
    "import csv\n",
    "\n",
    "sc = StandardScaler()\n",
    "\n",
    "def gen_rows(stream, max_length=None):\n",
    "    rows = csv.reader(stream)\n",
    "    if max_length is None:\n",
    "        rows = list(rows)\n",
    "        max_length = max(len(row) for row in rows)\n",
    "    for row in rows:\n",
    "        yield row + [None] * (max_length - len(row))\n",
    "\n",
    "with open('./sample_data.csv') as f:\n",
    "    x_train = pd.DataFrame.from_records(list(gen_rows(f)))\n",
    "\n",
    "y_train = pd.read_csv('./sample_label.csv')\n",
    "# x_train = pd.read_csv('./sample_data.csv', names=list(range(8192)))\n",
    "\n",
    "x_train = x_train.iloc[:].values\n",
    "x_train = np.array(x_train, dtype=np.float)\n",
    "x_train[np.isnan(x_train)] = 0\n",
    "# x_train = sc.fit_transform(x_train)\n",
    "y_train = y_train.iloc[:].values\n",
    "y_train = map(lambda x: x[1], y_train)\n",
    "y_train = np.fromiter(y_train, dtype = np.int)\n",
    "\n"
   ]
  },
  {
   "cell_type": "code",
   "execution_count": 6,
   "metadata": {},
   "outputs": [
    {
     "ename": "ValueError",
     "evalue": "num must be 1 <= num <= 4, not 5",
     "output_type": "error",
     "traceback": [
      "\u001b[0;31m---------------------------------------------------------------------------\u001b[0m",
      "\u001b[0;31mValueError\u001b[0m                                Traceback (most recent call last)",
      "\u001b[0;32m<ipython-input-6-56b0c4246ab8>\u001b[0m in \u001b[0;36m<module>\u001b[0;34m()\u001b[0m\n\u001b[1;32m      9\u001b[0m         \u001b[0mim\u001b[0m \u001b[0;34m=\u001b[0m \u001b[0mx_train\u001b[0m\u001b[0;34m[\u001b[0m\u001b[0mi\u001b[0m\u001b[0;34m,\u001b[0m \u001b[0;36m0\u001b[0m\u001b[0;34m:\u001b[0m \u001b[0;36m900\u001b[0m\u001b[0;34m]\u001b[0m\u001b[0;34m.\u001b[0m\u001b[0mastype\u001b[0m\u001b[0;34m(\u001b[0m\u001b[0mint\u001b[0m\u001b[0;34m)\u001b[0m\u001b[0;34m\u001b[0m\u001b[0m\n\u001b[1;32m     10\u001b[0m         \u001b[0mim\u001b[0m \u001b[0;34m=\u001b[0m \u001b[0mim\u001b[0m\u001b[0;34m.\u001b[0m\u001b[0mreshape\u001b[0m\u001b[0;34m(\u001b[0m\u001b[0;36m30\u001b[0m\u001b[0;34m,\u001b[0m \u001b[0;36m30\u001b[0m\u001b[0;34m)\u001b[0m\u001b[0;34m\u001b[0m\u001b[0m\n\u001b[0;32m---> 11\u001b[0;31m         \u001b[0ma\u001b[0m \u001b[0;34m=\u001b[0m \u001b[0mfig\u001b[0m\u001b[0;34m.\u001b[0m\u001b[0madd_subplot\u001b[0m\u001b[0;34m(\u001b[0m\u001b[0;36m2\u001b[0m\u001b[0;34m,\u001b[0m \u001b[0;36m2\u001b[0m\u001b[0;34m,\u001b[0m \u001b[0mn\u001b[0m\u001b[0;34m)\u001b[0m\u001b[0;34m\u001b[0m\u001b[0m\n\u001b[0m\u001b[1;32m     12\u001b[0m         \u001b[0mn\u001b[0m \u001b[0;34m+=\u001b[0m \u001b[0;36m1\u001b[0m\u001b[0;34m\u001b[0m\u001b[0m\n\u001b[1;32m     13\u001b[0m \u001b[0;31m#         a.set_title(y_train[i])\u001b[0m\u001b[0;34m\u001b[0m\u001b[0;34m\u001b[0m\u001b[0m\n",
      "\u001b[0;32m/home/lth08091998/anaconda3/envs/tensorflow/lib/python3.4/site-packages/matplotlib/figure.py\u001b[0m in \u001b[0;36madd_subplot\u001b[0;34m(self, *args, **kwargs)\u001b[0m\n\u001b[1;32m   1068\u001b[0m                     \u001b[0mself\u001b[0m\u001b[0;34m.\u001b[0m\u001b[0m_axstack\u001b[0m\u001b[0;34m.\u001b[0m\u001b[0mremove\u001b[0m\u001b[0;34m(\u001b[0m\u001b[0max\u001b[0m\u001b[0;34m)\u001b[0m\u001b[0;34m\u001b[0m\u001b[0m\n\u001b[1;32m   1069\u001b[0m \u001b[0;34m\u001b[0m\u001b[0m\n\u001b[0;32m-> 1070\u001b[0;31m             \u001b[0ma\u001b[0m \u001b[0;34m=\u001b[0m \u001b[0msubplot_class_factory\u001b[0m\u001b[0;34m(\u001b[0m\u001b[0mprojection_class\u001b[0m\u001b[0;34m)\u001b[0m\u001b[0;34m(\u001b[0m\u001b[0mself\u001b[0m\u001b[0;34m,\u001b[0m \u001b[0;34m*\u001b[0m\u001b[0margs\u001b[0m\u001b[0;34m,\u001b[0m \u001b[0;34m**\u001b[0m\u001b[0mkwargs\u001b[0m\u001b[0;34m)\u001b[0m\u001b[0;34m\u001b[0m\u001b[0m\n\u001b[0m\u001b[1;32m   1071\u001b[0m \u001b[0;34m\u001b[0m\u001b[0m\n\u001b[1;32m   1072\u001b[0m         \u001b[0mself\u001b[0m\u001b[0;34m.\u001b[0m\u001b[0m_axstack\u001b[0m\u001b[0;34m.\u001b[0m\u001b[0madd\u001b[0m\u001b[0;34m(\u001b[0m\u001b[0mkey\u001b[0m\u001b[0;34m,\u001b[0m \u001b[0ma\u001b[0m\u001b[0;34m)\u001b[0m\u001b[0;34m\u001b[0m\u001b[0m\n",
      "\u001b[0;32m/home/lth08091998/anaconda3/envs/tensorflow/lib/python3.4/site-packages/matplotlib/axes/_subplots.py\u001b[0m in \u001b[0;36m__init__\u001b[0;34m(self, fig, *args, **kwargs)\u001b[0m\n\u001b[1;32m     62\u001b[0m                     raise ValueError(\n\u001b[1;32m     63\u001b[0m                         \"num must be 1 <= num <= {maxn}, not {num}\".format(\n\u001b[0;32m---> 64\u001b[0;31m                             maxn=rows*cols, num=num))\n\u001b[0m\u001b[1;32m     65\u001b[0m                 \u001b[0mself\u001b[0m\u001b[0;34m.\u001b[0m\u001b[0m_subplotspec\u001b[0m \u001b[0;34m=\u001b[0m \u001b[0mGridSpec\u001b[0m\u001b[0;34m(\u001b[0m\u001b[0mrows\u001b[0m\u001b[0;34m,\u001b[0m \u001b[0mcols\u001b[0m\u001b[0;34m)\u001b[0m\u001b[0;34m[\u001b[0m\u001b[0mint\u001b[0m\u001b[0;34m(\u001b[0m\u001b[0mnum\u001b[0m\u001b[0;34m)\u001b[0m \u001b[0;34m-\u001b[0m \u001b[0;36m1\u001b[0m\u001b[0;34m]\u001b[0m\u001b[0;34m\u001b[0m\u001b[0m\n\u001b[1;32m     66\u001b[0m                 \u001b[0;31m# num - 1 for converting from MATLAB to python indexing\u001b[0m\u001b[0;34m\u001b[0m\u001b[0;34m\u001b[0m\u001b[0m\n",
      "\u001b[0;31mValueError\u001b[0m: num must be 1 <= num <= 4, not 5"
     ]
    },
    {
     "data": {
      "image/png": "[encoded data removed]",
      "text/plain": [
       "<matplotlib.figure.Figure at 0x7fc0c93bc898>"
      ]
     },
     "metadata": {},
     "output_type": "display_data"
    }
   ],
   "source": [
    "import matplotlib.pyplot as plt\n",
    "%matplotlib inline\n",
    "\n",
    "fig=plt.figure(figsize=(8, 8))\n",
    "n = 1\n",
    "\n",
    "for i in range(100):\n",
    "    if(y_train[i] == 0):\n",
    "        im = x_train[i, 0: 900].astype(int)\n",
    "        im = im.reshape(30, 30)\n",
    "        a = fig.add_subplot(2, 2, n)\n",
    "        n += 1\n",
    "#         a.set_title(y_train[i])\n",
    "        plt.gray()\n",
    "        plt.imshow(im)"
   ]
  },
  {
   "cell_type": "code",
   "execution_count": 39,
   "metadata": {},
   "outputs": [
    {
     "ename": "ValueError",
     "evalue": "num must be 1 <= num <= 1, not 2",
     "output_type": "error",
     "traceback": [
      "\u001b[0;31m---------------------------------------------------------------------------\u001b[0m",
      "\u001b[0;31mValueError\u001b[0m                                Traceback (most recent call last)",
      "\u001b[0;32m<ipython-input-39-fe3b88a53b9a>\u001b[0m in \u001b[0;36m<module>\u001b[0;34m()\u001b[0m\n\u001b[1;32m      6\u001b[0m         \u001b[0mim\u001b[0m \u001b[0;34m=\u001b[0m \u001b[0mx_train\u001b[0m\u001b[0;34m[\u001b[0m\u001b[0mi\u001b[0m\u001b[0;34m]\u001b[0m\u001b[0;34m.\u001b[0m\u001b[0mastype\u001b[0m\u001b[0;34m(\u001b[0m\u001b[0mint\u001b[0m\u001b[0;34m)\u001b[0m\u001b[0;34m\u001b[0m\u001b[0m\n\u001b[1;32m      7\u001b[0m         \u001b[0mim\u001b[0m \u001b[0;34m=\u001b[0m \u001b[0mim\u001b[0m\u001b[0;34m.\u001b[0m\u001b[0mreshape\u001b[0m\u001b[0;34m(\u001b[0m\u001b[0;36m64\u001b[0m\u001b[0;34m,\u001b[0m \u001b[0;36m64\u001b[0m\u001b[0;34m)\u001b[0m\u001b[0;34m\u001b[0m\u001b[0m\n\u001b[0;32m----> 8\u001b[0;31m         \u001b[0ma\u001b[0m \u001b[0;34m=\u001b[0m \u001b[0mfig\u001b[0m\u001b[0;34m.\u001b[0m\u001b[0madd_subplot\u001b[0m\u001b[0;34m(\u001b[0m\u001b[0;36m1\u001b[0m\u001b[0;34m,\u001b[0m \u001b[0;36m1\u001b[0m\u001b[0;34m,\u001b[0m \u001b[0mn\u001b[0m\u001b[0;34m)\u001b[0m\u001b[0;34m\u001b[0m\u001b[0m\n\u001b[0m\u001b[1;32m      9\u001b[0m         \u001b[0mn\u001b[0m \u001b[0;34m+=\u001b[0m \u001b[0;36m1\u001b[0m\u001b[0;34m\u001b[0m\u001b[0m\n\u001b[1;32m     10\u001b[0m         \u001b[0mplt\u001b[0m\u001b[0;34m.\u001b[0m\u001b[0mgray\u001b[0m\u001b[0;34m(\u001b[0m\u001b[0;34m)\u001b[0m\u001b[0;34m\u001b[0m\u001b[0m\n",
      "\u001b[0;32m/home/lth08091998/anaconda3/envs/tensorflow/lib/python3.4/site-packages/matplotlib/figure.py\u001b[0m in \u001b[0;36madd_subplot\u001b[0;34m(self, *args, **kwargs)\u001b[0m\n\u001b[1;32m   1068\u001b[0m                     \u001b[0mself\u001b[0m\u001b[0;34m.\u001b[0m\u001b[0m_axstack\u001b[0m\u001b[0;34m.\u001b[0m\u001b[0mremove\u001b[0m\u001b[0;34m(\u001b[0m\u001b[0max\u001b[0m\u001b[0;34m)\u001b[0m\u001b[0;34m\u001b[0m\u001b[0m\n\u001b[1;32m   1069\u001b[0m \u001b[0;34m\u001b[0m\u001b[0m\n\u001b[0;32m-> 1070\u001b[0;31m             \u001b[0ma\u001b[0m \u001b[0;34m=\u001b[0m \u001b[0msubplot_class_factory\u001b[0m\u001b[0;34m(\u001b[0m\u001b[0mprojection_class\u001b[0m\u001b[0;34m)\u001b[0m\u001b[0;34m(\u001b[0m\u001b[0mself\u001b[0m\u001b[0;34m,\u001b[0m \u001b[0;34m*\u001b[0m\u001b[0margs\u001b[0m\u001b[0;34m,\u001b[0m \u001b[0;34m**\u001b[0m\u001b[0mkwargs\u001b[0m\u001b[0;34m)\u001b[0m\u001b[0;34m\u001b[0m\u001b[0m\n\u001b[0m\u001b[1;32m   1071\u001b[0m \u001b[0;34m\u001b[0m\u001b[0m\n\u001b[1;32m   1072\u001b[0m         \u001b[0mself\u001b[0m\u001b[0;34m.\u001b[0m\u001b[0m_axstack\u001b[0m\u001b[0;34m.\u001b[0m\u001b[0madd\u001b[0m\u001b[0;34m(\u001b[0m\u001b[0mkey\u001b[0m\u001b[0;34m,\u001b[0m \u001b[0ma\u001b[0m\u001b[0;34m)\u001b[0m\u001b[0;34m\u001b[0m\u001b[0m\n",
      "\u001b[0;32m/home/lth08091998/anaconda3/envs/tensorflow/lib/python3.4/site-packages/matplotlib/axes/_subplots.py\u001b[0m in \u001b[0;36m__init__\u001b[0;34m(self, fig, *args, **kwargs)\u001b[0m\n\u001b[1;32m     62\u001b[0m                     raise ValueError(\n\u001b[1;32m     63\u001b[0m                         \"num must be 1 <= num <= {maxn}, not {num}\".format(\n\u001b[0;32m---> 64\u001b[0;31m                             maxn=rows*cols, num=num))\n\u001b[0m\u001b[1;32m     65\u001b[0m                 \u001b[0mself\u001b[0m\u001b[0;34m.\u001b[0m\u001b[0m_subplotspec\u001b[0m \u001b[0;34m=\u001b[0m \u001b[0mGridSpec\u001b[0m\u001b[0;34m(\u001b[0m\u001b[0mrows\u001b[0m\u001b[0;34m,\u001b[0m \u001b[0mcols\u001b[0m\u001b[0;34m)\u001b[0m\u001b[0;34m[\u001b[0m\u001b[0mint\u001b[0m\u001b[0;34m(\u001b[0m\u001b[0mnum\u001b[0m\u001b[0;34m)\u001b[0m \u001b[0;34m-\u001b[0m \u001b[0;36m1\u001b[0m\u001b[0;34m]\u001b[0m\u001b[0;34m\u001b[0m\u001b[0m\n\u001b[1;32m     66\u001b[0m                 \u001b[0;31m# num - 1 for converting from MATLAB to python indexing\u001b[0m\u001b[0;34m\u001b[0m\u001b[0;34m\u001b[0m\u001b[0m\n",
      "\u001b[0;31mValueError\u001b[0m: num must be 1 <= num <= 1, not 2"
     ]
    },
    {
     "data": {
      "image/png": "[encoded data removed]",
      "text/plain": [
       "<matplotlib.figure.Figure at 0x7fa77c076d68>"
      ]
     },
     "metadata": {},
     "output_type": "display_data"
    }
   ],
   "source": [
    "fig=plt.figure(figsize=(8, 8))\n",
    "n = 1\n",
    "\n",
    "for i in range(100):\n",
    "    if(y_train[i] == 1):\n",
    "        im = x_train[i].astype(int)\n",
    "        im = im.reshape(64, 64)\n",
    "        a = fig.add_subplot(1, 1, n)\n",
    "        n += 1\n",
    "        plt.gray()\n",
    "        plt.imshow(im)"
   ]
  },
  {
   "cell_type": "code",
   "execution_count": 7,
   "metadata": {
    "collapsed": true
   },
   "outputs": [],
   "source": [
    "x_reshaped_train = np.zeros((x_train.shape[0], 30, 30, 1))\n",
    "\n",
    "for i in range(x_train.shape[0]):\n",
    "    x_reshaped_train[i] = x_train[i, 0: 900].astype(int).reshape(30, 30, 1)"
   ]
  },
  {
   "cell_type": "code",
   "execution_count": 8,
   "metadata": {},
   "outputs": [
    {
     "name": "stdout",
     "output_type": "stream",
     "text": [
      "(500, 30, 30, 1)\n"
     ]
    }
   ],
   "source": [
    "print(x_reshaped_train.shape)"
   ]
  },
  {
   "cell_type": "code",
   "execution_count": 9,
   "metadata": {
    "collapsed": true
   },
   "outputs": [],
   "source": [
    "y_reshaped_train = np.zeros((y_train.shape[0], 2), dtype=int)\n",
    "for i in range(y_train.shape[0]):\n",
    "    if(y_train[i] == 0):\n",
    "        y_reshaped_train[i] = [1, 0]\n",
    "    else:\n",
    "        y_reshaped_train[i] = [0, 1]\n"
   ]
  },
  {
   "cell_type": "code",
   "execution_count": 10,
   "metadata": {},
   "outputs": [
    {
     "name": "stdout",
     "output_type": "stream",
     "text": [
      "0.638\n"
     ]
    }
   ],
   "source": [
    "cnt = 0\n",
    "for i in range(x_train.shape[0]):\n",
    "    if(y_train[i] == 1):\n",
    "        cnt += 1\n",
    "        \n",
    "print(cnt / 500)"
   ]
  },
  {
   "cell_type": "code",
   "execution_count": 25,
   "metadata": {},
   "outputs": [
    {
     "name": "stdout",
     "output_type": "stream",
     "text": [
      "Epoch 1/100\n",
      "500/500 [==============================] - 8s 17ms/step - loss: 5.6900 - acc: 0.6200\n",
      "Epoch 2/100\n",
      "500/500 [==============================] - 7s 14ms/step - loss: 5.8348 - acc: 0.6380\n",
      "Epoch 3/100\n",
      "500/500 [==============================] - 7s 14ms/step - loss: 5.8348 - acc: 0.6380\n",
      "Epoch 4/100\n",
      "500/500 [==============================] - 7s 14ms/step - loss: 5.8348 - acc: 0.6380\n",
      "Epoch 5/100\n",
      "500/500 [==============================] - 7s 14ms/step - loss: 5.8348 - acc: 0.6380\n",
      "Epoch 6/100\n",
      "500/500 [==============================] - 7s 14ms/step - loss: 5.8348 - acc: 0.6380\n",
      "Epoch 7/100\n",
      "500/500 [==============================] - 7s 14ms/step - loss: 5.8348 - acc: 0.6380\n",
      "Epoch 8/100\n",
      "500/500 [==============================] - 7s 14ms/step - loss: 5.8348 - acc: 0.6380\n",
      "Epoch 9/100\n",
      "500/500 [==============================] - 7s 14ms/step - loss: 5.8348 - acc: 0.6380\n",
      "Epoch 10/100\n",
      "500/500 [==============================] - 7s 14ms/step - loss: 5.8348 - acc: 0.6380\n",
      "Epoch 11/100\n",
      "500/500 [==============================] - 7s 14ms/step - loss: 5.8348 - acc: 0.6380\n",
      "Epoch 12/100\n",
      "500/500 [==============================] - 7s 14ms/step - loss: 5.8348 - acc: 0.6380\n",
      "Epoch 13/100\n",
      "500/500 [==============================] - 7s 14ms/step - loss: 5.8348 - acc: 0.6380\n",
      "Epoch 14/100\n",
      "500/500 [==============================] - 8s 15ms/step - loss: 5.8348 - acc: 0.6380\n",
      "Epoch 15/100\n",
      "500/500 [==============================] - 8s 16ms/step - loss: 5.8348 - acc: 0.6380\n",
      "Epoch 16/100\n",
      "500/500 [==============================] - 7s 14ms/step - loss: 5.8348 - acc: 0.6380\n",
      "Epoch 17/100\n",
      "500/500 [==============================] - 7s 14ms/step - loss: 5.8348 - acc: 0.6380\n",
      "Epoch 18/100\n",
      "500/500 [==============================] - 7s 14ms/step - loss: 5.8348 - acc: 0.6380\n",
      "Epoch 19/100\n",
      "500/500 [==============================] - 7s 14ms/step - loss: 5.8348 - acc: 0.6380\n",
      "Epoch 20/100\n",
      "500/500 [==============================] - 7s 14ms/step - loss: 5.8348 - acc: 0.6380\n",
      "Epoch 21/100\n",
      "500/500 [==============================] - 7s 14ms/step - loss: 5.8348 - acc: 0.6380\n",
      "Epoch 22/100\n",
      "500/500 [==============================] - 7s 14ms/step - loss: 5.8348 - acc: 0.6380\n",
      "Epoch 23/100\n",
      "500/500 [==============================] - 7s 14ms/step - loss: 5.8348 - acc: 0.6380\n",
      "Epoch 24/100\n",
      "500/500 [==============================] - 7s 14ms/step - loss: 5.8348 - acc: 0.6380\n",
      "Epoch 25/100\n",
      "500/500 [==============================] - 7s 14ms/step - loss: 5.8348 - acc: 0.6380\n",
      "Epoch 26/100\n",
      "500/500 [==============================] - 7s 14ms/step - loss: 5.8348 - acc: 0.6380\n",
      "Epoch 27/100\n",
      "500/500 [==============================] - 7s 14ms/step - loss: 5.8348 - acc: 0.6380\n",
      "Epoch 28/100\n",
      "500/500 [==============================] - 7s 14ms/step - loss: 5.8348 - acc: 0.6380\n",
      "Epoch 29/100\n",
      "500/500 [==============================] - 7s 14ms/step - loss: 5.8348 - acc: 0.6380\n",
      "Epoch 30/100\n",
      "500/500 [==============================] - 7s 14ms/step - loss: 5.8348 - acc: 0.6380\n",
      "Epoch 31/100\n",
      "500/500 [==============================] - 7s 14ms/step - loss: 5.8348 - acc: 0.6380\n",
      "Epoch 32/100\n",
      "500/500 [==============================] - 7s 14ms/step - loss: 5.8348 - acc: 0.6380\n",
      "Epoch 33/100\n",
      "500/500 [==============================] - 7s 14ms/step - loss: 5.8348 - acc: 0.6380\n",
      "Epoch 34/100\n",
      "500/500 [==============================] - 7s 14ms/step - loss: 5.8348 - acc: 0.6380\n",
      "Epoch 35/100\n",
      "500/500 [==============================] - 7s 14ms/step - loss: 5.8348 - acc: 0.6380\n",
      "Epoch 36/100\n",
      "500/500 [==============================] - 7s 14ms/step - loss: 5.8348 - acc: 0.6380\n",
      "Epoch 37/100\n",
      "500/500 [==============================] - 7s 14ms/step - loss: 5.8348 - acc: 0.6380\n",
      "Epoch 38/100\n",
      "500/500 [==============================] - 7s 14ms/step - loss: 5.8348 - acc: 0.6380\n",
      "Epoch 39/100\n",
      "500/500 [==============================] - 7s 14ms/step - loss: 5.8348 - acc: 0.6380\n",
      "Epoch 40/100\n",
      "500/500 [==============================] - 7s 14ms/step - loss: 5.8348 - acc: 0.6380\n",
      "Epoch 41/100\n",
      "500/500 [==============================] - 7s 14ms/step - loss: 5.8348 - acc: 0.6380\n",
      "Epoch 42/100\n",
      "500/500 [==============================] - 7s 14ms/step - loss: 5.8348 - acc: 0.6380\n",
      "Epoch 43/100\n",
      "500/500 [==============================] - 7s 14ms/step - loss: 5.8348 - acc: 0.6380\n",
      "Epoch 44/100\n",
      "500/500 [==============================] - 7s 14ms/step - loss: 5.8348 - acc: 0.6380\n",
      "Epoch 45/100\n",
      "500/500 [==============================] - 7s 14ms/step - loss: 5.8348 - acc: 0.6380\n",
      "Epoch 46/100\n",
      "500/500 [==============================] - 7s 14ms/step - loss: 5.8348 - acc: 0.6380\n",
      "Epoch 47/100\n",
      "500/500 [==============================] - 7s 14ms/step - loss: 5.8348 - acc: 0.6380\n",
      "Epoch 48/100\n",
      "500/500 [==============================] - 7s 14ms/step - loss: 5.8348 - acc: 0.6380\n",
      "Epoch 49/100\n",
      "500/500 [==============================] - 7s 14ms/step - loss: 5.8348 - acc: 0.6380\n",
      "Epoch 50/100\n",
      "500/500 [==============================] - 7s 14ms/step - loss: 5.8348 - acc: 0.6380\n",
      "Epoch 51/100\n",
      "500/500 [==============================] - 7s 14ms/step - loss: 5.8348 - acc: 0.6380\n",
      "Epoch 52/100\n",
      "500/500 [==============================] - 7s 14ms/step - loss: 5.8348 - acc: 0.6380\n",
      "Epoch 53/100\n",
      "500/500 [==============================] - 7s 14ms/step - loss: 5.8348 - acc: 0.6380\n",
      "Epoch 54/100\n",
      "500/500 [==============================] - 7s 14ms/step - loss: 5.8348 - acc: 0.6380\n",
      "Epoch 55/100\n",
      "500/500 [==============================] - 7s 14ms/step - loss: 5.8348 - acc: 0.6380\n",
      "Epoch 56/100\n",
      "500/500 [==============================] - 7s 14ms/step - loss: 5.8348 - acc: 0.6380\n",
      "Epoch 57/100\n",
      "500/500 [==============================] - 7s 14ms/step - loss: 5.8348 - acc: 0.6380\n",
      "Epoch 58/100\n",
      "500/500 [==============================] - 7s 14ms/step - loss: 5.8348 - acc: 0.6380\n",
      "Epoch 59/100\n",
      "500/500 [==============================] - 8s 16ms/step - loss: 5.8348 - acc: 0.6380\n",
      "Epoch 60/100\n",
      "500/500 [==============================] - 8s 16ms/step - loss: 5.8348 - acc: 0.6380\n",
      "Epoch 61/100\n",
      "500/500 [==============================] - 7s 14ms/step - loss: 5.8348 - acc: 0.6380\n",
      "Epoch 62/100\n",
      "500/500 [==============================] - 7s 14ms/step - loss: 5.8348 - acc: 0.6380\n",
      "Epoch 63/100\n",
      "500/500 [==============================] - 7s 14ms/step - loss: 5.8348 - acc: 0.6380\n",
      "Epoch 64/100\n",
      "500/500 [==============================] - 7s 14ms/step - loss: 5.8348 - acc: 0.6380\n",
      "Epoch 65/100\n",
      "500/500 [==============================] - 7s 14ms/step - loss: 5.8348 - acc: 0.6380\n",
      "Epoch 66/100\n",
      "500/500 [==============================] - 7s 14ms/step - loss: 5.8348 - acc: 0.6380\n",
      "Epoch 67/100\n",
      "500/500 [==============================] - 7s 14ms/step - loss: 5.8348 - acc: 0.6380\n",
      "Epoch 68/100\n",
      "500/500 [==============================] - 7s 14ms/step - loss: 5.8348 - acc: 0.6380\n",
      "Epoch 69/100\n",
      "500/500 [==============================] - 7s 14ms/step - loss: 5.8348 - acc: 0.6380\n",
      "Epoch 70/100\n",
      "500/500 [==============================] - 7s 14ms/step - loss: 5.8348 - acc: 0.6380\n",
      "Epoch 71/100\n",
      "500/500 [==============================] - 7s 14ms/step - loss: 5.8348 - acc: 0.6380\n",
      "Epoch 72/100\n",
      "500/500 [==============================] - 7s 14ms/step - loss: 5.8348 - acc: 0.6380\n",
      "Epoch 73/100\n",
      "500/500 [==============================] - 7s 14ms/step - loss: 5.8348 - acc: 0.6380\n",
      "Epoch 74/100\n",
      "500/500 [==============================] - 7s 14ms/step - loss: 5.8348 - acc: 0.6380\n",
      "Epoch 75/100\n",
      "500/500 [==============================] - 7s 14ms/step - loss: 5.8348 - acc: 0.6380\n",
      "Epoch 76/100\n",
      "500/500 [==============================] - 7s 14ms/step - loss: 5.8348 - acc: 0.6380\n",
      "Epoch 77/100\n",
      "500/500 [==============================] - 7s 14ms/step - loss: 5.8348 - acc: 0.6380\n",
      "Epoch 78/100\n",
      "500/500 [==============================] - 7s 14ms/step - loss: 5.8348 - acc: 0.6380\n",
      "Epoch 79/100\n",
      "500/500 [==============================] - 7s 14ms/step - loss: 5.8348 - acc: 0.6380\n",
      "Epoch 80/100\n",
      "500/500 [==============================] - 7s 14ms/step - loss: 5.8348 - acc: 0.6380\n",
      "Epoch 81/100\n",
      "500/500 [==============================] - 7s 14ms/step - loss: 5.8348 - acc: 0.6380\n",
      "Epoch 82/100\n",
      "500/500 [==============================] - 7s 14ms/step - loss: 5.8348 - acc: 0.6380\n",
      "Epoch 83/100\n",
      "500/500 [==============================] - 7s 14ms/step - loss: 5.8348 - acc: 0.6380\n",
      "Epoch 84/100\n",
      "500/500 [==============================] - 7s 14ms/step - loss: 5.8348 - acc: 0.6380\n",
      "Epoch 85/100\n",
      "500/500 [==============================] - 7s 14ms/step - loss: 5.8348 - acc: 0.6380\n",
      "Epoch 86/100\n",
      "500/500 [==============================] - 7s 14ms/step - loss: 5.8348 - acc: 0.6380\n",
      "Epoch 87/100\n",
      "500/500 [==============================] - 7s 14ms/step - loss: 5.8348 - acc: 0.6380\n",
      "Epoch 88/100\n",
      "500/500 [==============================] - 7s 14ms/step - loss: 5.8348 - acc: 0.6380\n",
      "Epoch 89/100\n",
      "500/500 [==============================] - 7s 14ms/step - loss: 5.8348 - acc: 0.6380\n",
      "Epoch 90/100\n",
      "500/500 [==============================] - 7s 14ms/step - loss: 5.8348 - acc: 0.6380\n",
      "Epoch 91/100\n",
      "500/500 [==============================] - 7s 14ms/step - loss: 5.8348 - acc: 0.6380\n",
      "Epoch 92/100\n",
      "500/500 [==============================] - 7s 14ms/step - loss: 5.8348 - acc: 0.6380\n",
      "Epoch 93/100\n",
      "500/500 [==============================] - 7s 14ms/step - loss: 5.8348 - acc: 0.6380\n",
      "Epoch 94/100\n",
      "500/500 [==============================] - 7s 14ms/step - loss: 5.8348 - acc: 0.6380\n",
      "Epoch 95/100\n",
      "500/500 [==============================] - 7s 14ms/step - loss: 5.8348 - acc: 0.6380\n",
      "Epoch 96/100\n",
      "500/500 [==============================] - 7s 14ms/step - loss: 5.8348 - acc: 0.6380\n",
      "Epoch 97/100\n",
      "500/500 [==============================] - 7s 14ms/step - loss: 5.8348 - acc: 0.6380\n",
      "Epoch 98/100\n",
      "500/500 [==============================] - 7s 14ms/step - loss: 5.8348 - acc: 0.6380\n",
      "Epoch 99/100\n",
      "500/500 [==============================] - 7s 14ms/step - loss: 5.8348 - acc: 0.6380\n",
      "Epoch 100/100\n",
      "500/500 [==============================] - 7s 14ms/step - loss: 5.8348 - acc: 0.6380\n"
     ]
    },
    {
     "data": {
      "text/plain": [
       "<keras.callbacks.History at 0x7fc0a8216898>"
      ]
     },
     "execution_count": 25,
     "metadata": {},
     "output_type": "execute_result"
    }
   ],
   "source": [
    "num_classes = 2\n",
    "import keras\n",
    "from keras import Sequential\n",
    "from keras.layers import *\n",
    "\n",
    "batch_size = 32\n",
    "epochs = 100\n",
    "\n",
    "\n",
    "model = Sequential()\n",
    "model.add(Conv2D(32, kernel_size=(1, 1), strides=(1, 1),\n",
    "                 activation='relu',\n",
    "                 input_shape=(30, 30, 1)))\n",
    "# model.add(MaxPooling2D(pool_size=(2, 2), strides=(1, 1)))\n",
    "# model.add(Conv2D(64, (3, 3), activation='relu'))\n",
    "# model.add(MaxPooling2D(pool_size=(2, 2)))\n",
    "model.add(Flatten())\n",
    "model.add(Dense(1000, activation='relu'))\n",
    "model.add(Dense(100, activation='relu'))\n",
    "model.add(Dense(num_classes, activation='softmax'))\n",
    "\n",
    "model.compile(loss=keras.losses.categorical_crossentropy,\n",
    "              optimizer=keras.optimizers.Adam(lr=0.01),\n",
    "              metrics=['accuracy'])\n",
    "\n",
    "model.fit(x_reshaped_train, y_reshaped_train,\n",
    "          batch_size=batch_size,\n",
    "          epochs=epochs,\n",
    "          verbose=1)\n",
    "#           validation_data=(x_test, y_test),\n",
    "#           callbacks=[history])\n",
    "\n"
   ]
  },
  {
   "cell_type": "code",
   "execution_count": 2,
   "metadata": {},
   "outputs": [
    {
     "name": "stdout",
     "output_type": "stream",
     "text": [
      "[[137  44]\n",
      " [ 27 292]]\n",
      "0.858\n"
     ]
    }
   ],
   "source": [
    "d_train = lgb.Dataset(x_train, label=y_train)\n",
    "\n",
    "# print(d_train)\n",
    "\n",
    "params = {}\n",
    "params['learning_rate'] = 0.003\n",
    "params['boosting_type'] = 'gbdt'\n",
    "params['objective'] = 'binary'\n",
    "params['metric'] = 'binary_logloss'\n",
    "params['sub_feature'] = 0.5\n",
    "params['num_leaves'] = 100\n",
    "params['min_data'] = 50\n",
    "params['max_depth'] = 100\n",
    "\n",
    "\n",
    "clf = lgb.train(params, d_train, 10)\n",
    "\n",
    "y_pred=clf.predict(x_train)\n",
    "#convert into binary values\n",
    "for i in range(x_train.shape[0]):\n",
    "    if y_pred[i]>=.5:       # setting threshold to .5\n",
    "       y_pred[i]=1\n",
    "    else:  \n",
    "       y_pred[i]=0\n",
    "\n",
    "y_pred = y_pred.astype(np.int)\n",
    "\n",
    "# print(y_pred)\n",
    "# print(y_train)\n",
    "\n",
    "# # result = 0\n",
    "# # for i in range(y_pred.shape[0]):\n",
    "# # \tif(y_pred[i] != y_train[i]):\n",
    "# # \t\tresult += 1\n",
    "\n",
    "# # print(\"ACCURACY \")\n",
    "# # print((y_pred.shape[0] - result) / y_pred.shape[0])\n",
    "\n",
    "cm = confusion_matrix(y_train, y_pred)\n",
    "\n",
    "print(cm)\n",
    "accuracy=accuracy_score(y_pred,y_train)\n",
    "\n",
    "print(accuracy)"
   ]
  },
  {
   "cell_type": "code",
   "execution_count": null,
   "metadata": {
    "collapsed": true
   },
   "outputs": [],
   "source": []
  }
 ],
 "metadata": {
  "kernelspec": {
   "display_name": "Python 3",
   "language": "python",
   "name": "python3"
  },
  "language_info": {
   "codemirror_mode": {
    "name": "ipython",
    "version": 3
   },
   "file_extension": ".py",
   "mimetype": "text/x-python",
   "name": "python",
   "nbconvert_exporter": "python",
   "pygments_lexer": "ipython3",
   "version": "3.6.1"
  }
 },
 "nbformat": 4,
 "nbformat_minor": 2
}
